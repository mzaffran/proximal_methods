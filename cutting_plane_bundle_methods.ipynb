{
 "cells": [
  {
   "cell_type": "markdown",
   "metadata": {},
   "source": [
    "# Cutting plane and bundle methods\n",
    "The second part of the tutorial focuses on cutting plane and bundle\n",
    "methods. We aim at resolving the following LASSO problem:\n",
    "$$\n",
    "\\min_u \\;f(u) =  \\frac{1}{2} \\| A u - b \\|_2^2 + \\lambda \\|u \\|_1\n",
    "$$\n",
    "with $\\lambda$ a given regularization parameter, $A$ and $b$ input data.\n",
    "\n",
    "## Settings\n",
    "We import the usual packages:"
   ]
  },
  {
   "cell_type": "code",
   "execution_count": 1,
   "metadata": {},
   "outputs": [],
   "source": [
    "using Printf, Random\n",
    "using LinearAlgebra\n",
    "using ForwardDiff\n",
    "using JuMP, OSQP\n",
    "using CPLEX"
   ]
  },
  {
   "cell_type": "markdown",
   "metadata": {},
   "source": [
    "Fix seed"
   ]
  },
  {
   "cell_type": "code",
   "execution_count": 2,
   "metadata": {},
   "outputs": [],
   "source": [
    "Random.seed!(2713);"
   ]
  },
  {
   "cell_type": "markdown",
   "metadata": {},
   "source": [
    "Some constants"
   ]
  },
  {
   "cell_type": "code",
   "execution_count": 3,
   "metadata": {},
   "outputs": [
    {
     "data": {
      "text/plain": [
       "CPLEX.Optimizer"
      ]
     },
     "execution_count": 3,
     "metadata": {},
     "output_type": "execute_result"
    }
   ],
   "source": [
    "const LB = -1e20\n",
    "const UB =  1e20\n",
    "const EPS = 1e-8\n",
    "const SOLVER = CPLEX.Optimizer"
   ]
  },
  {
   "cell_type": "markdown",
   "metadata": {},
   "source": [
    "We first generate artificial data to study the algorithm:"
   ]
  },
  {
   "cell_type": "code",
   "execution_count": 4,
   "metadata": {},
   "outputs": [],
   "source": [
    "include(\"data.jl\")\n",
    "\n",
    "nVariables = 10;\n",
    "nCassures = 10;\n",
    "xMin, xMax = build_bounds(nVariables)\n",
    "A = build_X(nVariables, nCassures, xMin, xMax);\n",
    "b = randn(nCassures);\n",
    "λ = 50.0;"
   ]
  },
  {
   "cell_type": "markdown",
   "metadata": {},
   "source": [
    "Build oracle for objective:"
   ]
  },
  {
   "cell_type": "code",
   "execution_count": 5,
   "metadata": {},
   "outputs": [],
   "source": [
    "f(u) = 0.5 * norm(A*u - b, 2)^2 + λ * norm(u, 1);"
   ]
  },
  {
   "cell_type": "markdown",
   "metadata": {},
   "source": [
    "## Cutting plane\n",
    "The cutting plane method builds a proxy $\\underline{f}_k$ for the original\n",
    "function $f$, such that $\\underline{f}_k$ is polyhedral and is a lower approximation:\n",
    "$$\n",
    "\\underline{f}_k \\leq f \\quad \\forall k\n",
    "$$\n",
    "If we have at disposal a collection of point $x_1, \\cdots, x_k$,\n",
    "with associated subgradients $g_1, \\cdots, g_k$, the function\n",
    "$\\underline{f}_k$ writes out\n",
    "$$\n",
    "\\begin{aligned}\n",
    "f_k(x) = min_x \\;& \\theta  \\\\\n",
    "         s.t. \\quad & \\theta \\geq g_k^\\top (x - x_k) + f(x_k)\n",
    "\\end{aligned}\n",
    "$$\n",
    "Using the JuMP modeler, the master problem at iteration 0 writes as"
   ]
  },
  {
   "cell_type": "code",
   "execution_count": null,
   "metadata": {},
   "outputs": [],
   "source": [
    "function init_master_cutting_plane(model, X, xMin, xMax)\n",
    "    nVariables, nCassures = size(X)\n",
    "    x_ = @variable(model, x_[1:nVariables])\n",
    "    for i in 1:nVariables\n",
    "        @constraint(model, x_[i] <= xMax[i])\n",
    "        @constraint(model, x_[i] >= xMin[i])\n",
    "    end\n",
    "    α_ = @variable(model, α_ >= LB)\n",
    "    @objective(model, Min, α_)\n",
    "    return x_, α_\n",
    "end;"
   ]
  },
  {
   "cell_type": "markdown",
   "metadata": {},
   "source": [
    "With these two ingredients, we could define the cutting plane algorithm"
   ]
  },
  {
   "cell_type": "code",
   "execution_count": 23,
   "metadata": {},
   "outputs": [],
   "source": [
    "function launch_cutting_plane(X, xMin, xMax, maxit=10000)\n",
    "    master = Model(SOLVER)\n",
    "    JuMP.set_silent(master)\n",
    "    #x, α = init_master_cutting_plane(master, X, xMin, xMax)\n",
    "    \n",
    "    @variable(master, α >= LB)\n",
    "    @variable(master,x[1:size(X,1)])\n",
    "    for i in 1:size(X,1)\n",
    "        @constraint(master, x[i] <= xMax[i])\n",
    "        @constraint(master, x[i] >= xMin[i])\n",
    "    end\n",
    "    \n",
    "    lb, ub = LB, UB\n",
    "\n",
    "    best_ub = ub\n",
    "\n",
    "    trace_f = Float64[]\n",
    "    trace_ub = Float64[]\n",
    "    trace_α = Float64[]\n",
    "    \n",
    "    for n_iter in 1:maxit\n",
    "        println(n_iter)\n",
    "        JuMP.optimize!(master)\n",
    "        lb = JuMP.value(α)\n",
    "        x_k = JuMP.value.(x)\n",
    "        f_k = f(x_k)\n",
    "        g_k = ForwardDiff.gradient(f, x_k)\n",
    "        ub = f_k\n",
    "        best_ub = min(ub, best_ub)\n",
    "        push!(trace_f, f_k)\n",
    "        push!(trace_ub, best_ub)\n",
    "        push!(trace_α, lb)\n",
    "        if (lb >= best_ub - EPS) && (best_ub >= lb)\n",
    "            return trace_f, trace_ub, trace_α\n",
    "            break\n",
    "        else\n",
    "            @constraint(master, α >= f_k + sum( g_k[i]*(x-x_k)[i] for i in 1:size(X,1)))\n",
    "        end\n",
    "    end\n",
    "    return trace_f, trace_ub, trace_α\n",
    "end;"
   ]
  },
  {
   "cell_type": "code",
   "execution_count": 24,
   "metadata": {},
   "outputs": [
    {
     "name": "stdout",
     "output_type": "stream",
     "text": [
      "1\n",
      "2\n",
      "3\n",
      "4\n",
      "5\n",
      "6\n",
      "7\n",
      "8\n",
      "9\n",
      "10\n",
      "11\n",
      "12\n",
      "13\n",
      "14\n",
      "15\n",
      "16\n",
      "17\n",
      "18\n",
      "19\n",
      "20\n",
      "21\n",
      "22\n",
      "23\n",
      "24\n",
      "25\n",
      "26\n",
      "27\n",
      "28\n",
      "29\n",
      "30\n",
      "31\n",
      "32\n",
      "33\n",
      "34\n",
      "35\n",
      "36\n",
      "37\n",
      "38\n",
      "39\n",
      "40\n",
      "41\n",
      "42\n",
      "43\n",
      "44\n",
      "45\n",
      "46\n",
      "47\n",
      "48\n",
      "49\n",
      "50\n",
      "51\n",
      "52\n",
      "53\n",
      "54\n",
      "55\n",
      "56\n",
      "57\n",
      "58\n",
      "59\n",
      "60\n",
      "61\n",
      "62\n",
      "63\n",
      "64\n",
      "65\n",
      "66\n",
      "67\n",
      "68\n",
      "69\n",
      "70\n",
      "71\n",
      "72\n",
      "73\n",
      "74\n",
      "75\n",
      "76\n",
      "77\n",
      "78\n",
      "79\n",
      "80\n",
      "81\n",
      "82\n",
      "83\n",
      "84\n",
      "85\n",
      "86\n",
      "87\n",
      "88\n",
      "89\n",
      "90\n",
      "91\n",
      "92\n",
      "93\n",
      "94\n",
      "95\n",
      "96\n",
      "97\n",
      "98\n",
      "99\n",
      "100\n",
      "101\n",
      "102\n",
      "103\n",
      "104\n",
      "105\n",
      "106\n",
      "107\n",
      "108\n",
      "109\n",
      "110\n",
      "111\n",
      "112\n",
      "113\n",
      "114\n",
      "115\n",
      "116\n",
      "117\n",
      "118\n",
      "119\n",
      "120\n",
      "121\n",
      "122\n",
      "123\n",
      "124\n",
      "125\n",
      "126\n",
      "127\n",
      "128\n",
      "129\n",
      "130\n",
      "131\n",
      "132\n",
      "133\n",
      "134\n",
      "135\n",
      "136\n",
      "137\n",
      "138\n",
      "139\n",
      "140\n",
      "141\n",
      "142\n",
      "143\n",
      "144\n",
      "145\n",
      "146\n",
      "147\n",
      "148\n",
      "149\n",
      "150\n",
      "151\n",
      "152\n",
      "153\n",
      "154\n",
      "155\n",
      "156\n",
      "157\n",
      "158\n",
      "159\n",
      "160\n",
      "161\n",
      "162\n",
      "163\n",
      "164\n",
      "165\n",
      "166\n",
      "167\n",
      "168\n",
      "169\n",
      "170\n",
      "171\n",
      "172\n",
      "173\n",
      "174\n",
      "175\n",
      "176\n",
      "177\n",
      "178\n",
      "179\n",
      "180\n",
      "181\n",
      "182\n",
      "183\n",
      "184\n",
      "185\n",
      "186\n",
      "187\n",
      "188\n",
      "189\n",
      "190\n",
      "191\n",
      "192\n",
      "193\n",
      "194\n",
      "195\n",
      "196\n",
      "197\n",
      "198\n",
      "199\n",
      "200\n",
      "201\n",
      "202\n",
      "203\n",
      "204\n",
      "205\n",
      "206\n",
      "207\n",
      "208\n",
      "209\n",
      "210\n",
      "211\n",
      "212\n",
      "213\n",
      "214\n",
      "215\n",
      "216\n",
      "217\n",
      "218\n",
      "219\n",
      "220\n",
      "221\n",
      "222\n",
      "223\n",
      "224\n",
      "225\n",
      "226\n",
      "227\n",
      "228\n"
     ]
    },
    {
     "data": {
      "text/plain": [
       "([8.881330164947744e6, 3.0417436113853687e6, 3.3284286604732187e6, 2.669421719462124e6, 1.9630103079605657e6, 1.5584280979700633e6, 2.160432903843214e6, 1.7363713835789727e6, 1.1883762811283744e6, 1.2082439925967508e6  …  13.040826370487002, 9.728515111974996, 7.403179169199589, 6.525317189040347, 7.575517426319827, 7.675543621362594, 8.148201068389257, 7.895710493774761, 8.253321574069481, 11.515692361783044], [8.881330164947744e6, 3.0417436113853687e6, 3.0417436113853687e6, 2.669421719462124e6, 1.9630103079605657e6, 1.5584280979700633e6, 1.5584280979700633e6, 1.5584280979700633e6, 1.1883762811283744e6, 1.1883762811283744e6  …  7.7764900022206795, 7.7764900022206795, 7.403179169199589, 6.525317189040347, 6.525317189040347, 6.525317189040347, 6.525317189040347, 6.525317189040347, 6.525317189040347, 6.525317189040347], [0.0, 0.0, 0.0, 0.0, 0.0, 0.0, 0.0, 0.0, 0.0, 0.0  …  5.490136288793235, 5.1795274776469595, 4.451128173487632, 4.036621331948921, 4.560205015735438, 4.761576385113594, 5.235692971621826, 5.305694631479014, 5.946253605591204, 7.252253795350743])"
      ]
     },
     "execution_count": 24,
     "metadata": {},
     "output_type": "execute_result"
    }
   ],
   "source": [
    "trace_cutting_plane_f, trace_cutting_plane_ub, trace_cutting_plane_α  = launch_cutting_plane(A, xMin, xMax)"
   ]
  },
  {
   "cell_type": "code",
   "execution_count": 29,
   "metadata": {},
   "outputs": [
    {
     "data": {
      "image/png": "[encoded data removed]",
      "text/plain": [
       "Figure(PyObject <Figure size 640x480 with 1 Axes>)"
      ]
     },
     "metadata": {},
     "output_type": "display_data"
    },
    {
     "data": {
      "text/plain": [
       "1-element Array{PyCall.PyObject,1}:\n",
       " PyObject <matplotlib.lines.Line2D object at 0x1710ab1d0>"
      ]
     },
     "execution_count": 29,
     "metadata": {},
     "output_type": "execute_result"
    }
   ],
   "source": [
    "using PyPlot\n",
    "\n",
    "plot(log10.(trace_cutting_plane_f), lw=2.)"
   ]
  },
  {
   "cell_type": "code",
   "execution_count": 31,
   "metadata": {},
   "outputs": [
    {
     "data": {
      "image/png": "[encoded data removed]",
      "text/plain": [
       "Figure(PyObject <Figure size 640x480 with 1 Axes>)"
      ]
     },
     "metadata": {},
     "output_type": "display_data"
    },
    {
     "data": {
      "text/plain": [
       "1-element Array{PyCall.PyObject,1}:\n",
       " PyObject <matplotlib.lines.Line2D object at 0x171344dd0>"
      ]
     },
     "execution_count": 31,
     "metadata": {},
     "output_type": "execute_result"
    }
   ],
   "source": [
    "plot(trace_cutting_plane_f, lw=2.)"
   ]
  },
  {
   "cell_type": "code",
   "execution_count": 32,
   "metadata": {},
   "outputs": [
    {
     "data": {
      "image/png": "[encoded data removed]",
      "text/plain": [
       "Figure(PyObject <Figure size 640x480 with 1 Axes>)"
      ]
     },
     "metadata": {},
     "output_type": "display_data"
    },
    {
     "data": {
      "text/plain": [
       "1-element Array{PyCall.PyObject,1}:\n",
       " PyObject <matplotlib.lines.Line2D object at 0x1713d4710>"
      ]
     },
     "execution_count": 32,
     "metadata": {},
     "output_type": "execute_result"
    }
   ],
   "source": [
    "plot(log10.(trace_cutting_plane_ub), lw=2.)"
   ]
  },
  {
   "cell_type": "code",
   "execution_count": 33,
   "metadata": {},
   "outputs": [
    {
     "data": {
      "image/png": "[encoded data removed]",
      "text/plain": [
       "Figure(PyObject <Figure size 640x480 with 1 Axes>)"
      ]
     },
     "metadata": {},
     "output_type": "display_data"
    },
    {
     "data": {
      "text/plain": [
       "1-element Array{PyCall.PyObject,1}:\n",
       " PyObject <matplotlib.lines.Line2D object at 0x17185ca50>"
      ]
     },
     "execution_count": 33,
     "metadata": {},
     "output_type": "execute_result"
    }
   ],
   "source": [
    "plot(trace_cutting_plane_ub, lw=2.)"
   ]
  },
  {
   "cell_type": "markdown",
   "metadata": {},
   "source": [
    "## Bundle algorithm\n",
    "Comparing to the cutting plane method, the bundle algorithm adds a\n",
    "quadratic penalization to the polyhedral proxy model.\n",
    "The function .\n",
    "$$\n",
    "\\begin{aligned}\n",
    "f_k(x) = min_x \\;& \\theta + \\frac 12 \\| x - x_k \\|_2^2 \\\\\n",
    "         s.t. \\quad & \\theta \\geq g_k^\\top (x - x_k) + f(x_k)\n",
    "\\end{aligned}\n",
    "$$"
   ]
  },
  {
   "cell_type": "code",
   "execution_count": null,
   "metadata": {},
   "outputs": [],
   "source": [
    "function update_center(var_proximal, nVariables, center)\n",
    "    JuMP.fix.(var_proximal, center)\n",
    "end\n",
    "\n",
    "function launch_proximal(X, xMin, xMax, maxit=10000)\n",
    "    master = Model(SOLVER)\n",
    "    # Remove annoying logs.\n",
    "    JuMP.set_silent(master)\n",
    "    nVariables, nCassures = size(X)\n",
    "    #x, α = init_master_cutting_plane(master, X, xMin, xMax)\n",
    "    @variable(master, α >= LB)\n",
    "    @variable(master, x[1:size(X,1)])\n",
    "    for i in 1:size(X,1)\n",
    "        @constraint(master, x[i] <= xMax[i])\n",
    "        @constraint(master, x[i] >= xMin[i])\n",
    "    end\n",
    "    # Add a proximal variable\n",
    "    var_proximal = @variable(master, var_proximal[1:nVariables])\n",
    "\n",
    "    stop = false\n",
    "    lb, ub = -Inf, Inf\n",
    "    # Best upper bound\n",
    "    best_ub = ub\n",
    "    prediction = 0.0\n",
    "    # Number of serious step\n",
    "    nb_ss = 0\n",
    "    # Number of null step\n",
    "    nb_ns = 0\n",
    "    # Maximum number of update\n",
    "    nb_update = 3\n",
    "    step = \"NONE\"\n",
    "    weight = 1.0\n",
    "    tol = 1e-1\n",
    "\n",
    "    # The objective writes out as a QP\n",
    "    @objective(master, Min, α + sum(weight * var_proximal[i]^2 for i in 1:nVariables))\n",
    "\n",
    "    center = zeros(nVariables)\n",
    "    update_center(var_proximal, nVariables, center)\n",
    "\n",
    "    for n_iter in 1:maxit\n",
    "        JuMP.optimize!(master)\n",
    "        lb = JuMP.value(α)\n",
    "        var_proximal = JuMP.value.(var_proximal)\n",
    "        x = JuMP.value(x)\n",
    "        \n",
    "        x_k = x - var_proximal\n",
    "        \n",
    "        f(x_k) - sum(weight * var_proximal[i]^2 for i in 1:nVariables)\n",
    "        \n",
    "        if   <= \n",
    "            nb_ss += 1\n",
    "            if\n",
    "            \n",
    "            else\n",
    "                g_k = ForwardDiff.gradient(f, x_k)\n",
    "            end\n",
    "        else\n",
    "            nb_ns += 1\n",
    "            if\n",
    "            \n",
    "            else\n",
    "                g_k = ForwardDiff.gradient(f, x_k)\n",
    "            end\n",
    "        end\n",
    "    end\n",
    "end"
   ]
  },
  {
   "cell_type": "code",
   "execution_count": null,
   "metadata": {},
   "outputs": [],
   "source": [
    "function launch_bundle(X, xMin, xMax, maxit=10000)\n",
    "    master = Model(with_optimizer(SOLVER))\n",
    "    # Remove annoying logs.\n",
    "    JuMP.set_silent(master)\n",
    "    nVariables, nCassures = size(X)\n",
    "    #x, α = init_master_cutting_plane(master, X, xMin, xMax)\n",
    "    @variable(master, α >= LB)\n",
    "    @variable(master,x[1:size(X,1)])\n",
    "    for i in 1:size(X,1)\n",
    "        @constraint(master, x[i] <= xMax[i])\n",
    "        @constraint(master, x[i] >= xMin[i])\n",
    "    end\n",
    "    # Add a proximal variable\n",
    "    y = @variable(master, y[1:nVariables])\n",
    "\n",
    "    stop = false\n",
    "    lb, ub = -Inf, Inf\n",
    "    # Best upper bound\n",
    "    best_ub = ub\n",
    "    prediction = 0.0\n",
    "    # Number of serious step\n",
    "    nb_ss = 0\n",
    "    # Number of null step\n",
    "    nb_ns = 0\n",
    "    # Maximum number of update\n",
    "    nb_update = 3\n",
    "    step = \"NONE\"\n",
    "    weight = 1.0\n",
    "    tol = 1e-1\n",
    "\n",
    "    # The objective writes out as a QP\n",
    "    @objective(master, Min, α + sum(weight * (y[i]-x[i])^2 for i in 1:nVariables))\n",
    "\n",
    "    center = zeros(nVariables)\n",
    "    x_k = zeros(nVariables)\n",
    "    f_k = f(x_k)\n",
    "    y_k = zeros(nVariables)\n",
    "    #update_center(var_proximal, nVariables, center)\n",
    "\n",
    "    for n_iter in 1:maxit\n",
    "        JuMP.optimize!(master)\n",
    "        lb = JuMP.value(α)\n",
    "        y_k = JuMP.value.(y)\n",
    "        #Projected decrease\n",
    "        prediction = f_k - (lb + weightsum((y_k[i]-x_k[i])^2 for i in 1:nVariables))\n",
    "        if prediction < tol\n",
    "            break\n",
    "        else\n",
    "            fy_k = f(y_k)\n",
    "            if f_k - fy_k >= 0.5prediction\n",
    "                x_k = y_k\n",
    "            else\n",
    "                g_k = ForwardDiff.gradient(f, y_k)\n",
    "                @constraint(master, α >= fy_k + sum(g_k[i]*(y[i]-y_k[i]) for i in 1:nVariables))\n",
    "            end\n",
    "        end \n",
    "    end\n",
    "end"
   ]
  },
  {
   "cell_type": "code",
   "execution_count": null,
   "metadata": {},
   "outputs": [],
   "source": [
    "#trace_cutting_plane_f, trace_cutting_plane_ub, trace_cutting_plane_α  = launch_cutting_plane(A, xMin, xMax)"
   ]
  }
 ],
 "metadata": {
  "kernelspec": {
   "display_name": "Julia 1.3.1",
   "language": "julia",
   "name": "julia-1.3"
  },
  "language_info": {
   "file_extension": ".jl",
   "mimetype": "application/julia",
   "name": "julia",
   "version": "1.3.1"
  }
 },
 "nbformat": 4,
 "nbformat_minor": 2
}
