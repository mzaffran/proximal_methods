{
 "cells": [
  {
   "cell_type": "markdown",
   "metadata": {},
   "source": [
    "# Cutting plane and bundle methods\n",
    "The second part of the tutorial focuses on cutting plane and bundle\n",
    "methods. We aim at resolving the following LASSO problem:\n",
    "$$\n",
    "\\min_u \\;f(u) =  \\| A u - b \\|_2^2 + \\lambda \\|u \\|_1\n",
    "$$\n",
    "with $\\lambda$ a given regularization parameter, $A$ and $b$ input data.\n",
    "\n",
    "## Table of contents <a name=\"toc\"></a>\n",
    "\n",
    "1. [Settings](#settings)\n",
    "2. [Cuutting plane algorithm](#cutting)\n",
    "3. [Bundle algorithm](#bundle)\n",
    "4. [Final results on simulated data](#simulated)\n",
    "    1. [First results](#res_sim)\n",
    "    2. [Influence of the regularization](#reg_sim)\n",
    "    3. [Impact of the normalization](#norm_sim)\n",
    "5. [Final results on real data](#real)\n",
    "    1. [First results](#res_real)\n",
    "    2. [Influence of the regularization](#reg_real)\n",
    "    3. [Impact of the normalization](#norm_real)\n",
    "\n",
    "\n",
    "## Settings\n",
    "We import the usual packages:"
   ]
  },
  {
   "cell_type": "code",
   "execution_count": 1,
   "metadata": {},
   "outputs": [],
   "source": [
    "using Printf, Random\n",
    "using LinearAlgebra\n",
    "using ForwardDiff\n",
    "using JuMP, CPLEX"
   ]
  },
  {
   "cell_type": "markdown",
   "metadata": {},
   "source": [
    "Fix seed"
   ]
  },
  {
   "cell_type": "code",
   "execution_count": 2,
   "metadata": {},
   "outputs": [],
   "source": [
    "Random.seed!(2713);"
   ]
  },
  {
   "cell_type": "markdown",
   "metadata": {},
   "source": [
    "Some constants"
   ]
  },
  {
   "cell_type": "code",
   "execution_count": 3,
   "metadata": {},
   "outputs": [
    {
     "data": {
      "text/plain": [
       "CPLEX.Optimizer"
      ]
     },
     "execution_count": 3,
     "metadata": {},
     "output_type": "execute_result"
    }
   ],
   "source": [
    "const LB = 0 #For CPLEX, see note on this later on\n",
    "const UB =  1e20\n",
    "const SOLVER = CPLEX.Optimizer"
   ]
  },
  {
   "cell_type": "markdown",
   "metadata": {},
   "source": [
    "We first generate artificial data to study the algorithm:"
   ]
  },
  {
   "cell_type": "code",
   "execution_count": 4,
   "metadata": {},
   "outputs": [],
   "source": [
    "include(\"data.jl\")\n",
    "\n",
    "nVariables = 10;\n",
    "nCassures = 10;\n",
    "xMin, xMax = build_bounds(nVariables)\n",
    "A = build_X(nVariables, nCassures, xMin, xMax);\n",
    "b = randn(nCassures);\n",
    "λ = 50.0;"
   ]
  },
  {
   "cell_type": "markdown",
   "metadata": {},
   "source": [
    "Build oracle for objective:"
   ]
  },
  {
   "cell_type": "code",
   "execution_count": 5,
   "metadata": {},
   "outputs": [],
   "source": [
    "f(u) = 0.5 * norm(A*u - b, 2)^2 + λ * norm(u, 1);"
   ]
  },
  {
   "cell_type": "markdown",
   "metadata": {},
   "source": [
    "Function that gets the actual solution:"
   ]
  },
  {
   "cell_type": "code",
   "execution_count": 6,
   "metadata": {},
   "outputs": [
    {
     "name": "stdout",
     "output_type": "stream",
     "text": [
      "Optimal solution is equal to 5.0541025315605985\n"
     ]
    }
   ],
   "source": [
    "function get_solution(A, b, λ)\n",
    "    n, m = size(A)\n",
    "    model = Model(SOLVER)\n",
    "    JuMP.set_silent(model)\n",
    "    set_optimizer_attribute(model, \"CPX_PARAM_LPMETHOD\", 2) #For CPLEX\n",
    "    # Variable u\n",
    "    @variable(model, u[1:n])\n",
    "    # Variable t, linearizing the \\|.\\|_1 term\n",
    "    @variable(model, t[1:n])\n",
    "    @constraint(model, t .>= u)\n",
    "    @constraint(model, t .>= -u)\n",
    "    @objective(model, Min, 0.5 * dot(A*u - b, A*u - b) + λ * sum(t))\n",
    "    JuMP.optimize!(model)\n",
    "    return JuMP.objective_value(model)\n",
    "end\n",
    "optsol = get_solution(A, b, λ)\n",
    "println(\"Optimal solution is equal to \", optsol)"
   ]
  },
  {
   "cell_type": "markdown",
   "metadata": {},
   "source": [
    "__A note on the choice of solvers :__ \n",
    "\n",
    "- CPLEX (sometimes ?) does not deal very well with the very low lower bound LB. It appears that the bound is so low that it believes the problem to be unbounded (especially using the bundle method). Here we have an obvious reasonable lower bound of 0, but that might not be the case in other applications.\n",
    "- OSQP, as seen in the previous practical session, seems to have numerous instability problems and sometimes a lack of convergence. Here, bundle algorithm could not converge in 5 000 iterations with OSQP while it had no issue in less than 200 iterations with CPLEX (once taken into account previous comment).\n",
    "\n",
    "Given these observations, we have chosen to keep working with CPLEX.\n",
    "\n",
    "_Back to [table of contents](#toc)_"
   ]
  },
  {
   "cell_type": "markdown",
   "metadata": {},
   "source": [
    "## Cutting plane <a name=\"cutting\"></a>\n",
    "The cutting plane method builds a proxy $\\underline{f}_k$ for the original\n",
    "function $f$, such that $\\underline{f}_k$ is polyhedral and is a lower approximation:\n",
    "$$\n",
    "\\underline{f}_k \\leq f \\quad \\forall k\n",
    "$$\n",
    "If we have at disposal a collection of point $x_1, \\cdots, x_k$,\n",
    "with associated subgradients $g_1, \\cdots, g_k$, the function\n",
    "$\\underline{f}_k$ writes out\n",
    "$$\n",
    "\\begin{aligned}\n",
    "\\underline{f}_k(x) = min_{\\theta} \\;& \\theta  \\\\\n",
    "         s.t. \\quad & \\theta \\geq g_k^\\top (x - x_k) + f(x_k) \\quad \\forall k\n",
    "\\end{aligned}\n",
    "$$"
   ]
  },
  {
   "cell_type": "markdown",
   "metadata": {},
   "source": [
    "We can define the cutting plane algorithm as follows."
   ]
  },
  {
   "cell_type": "code",
   "execution_count": 7,
   "metadata": {},
   "outputs": [],
   "source": [
    "function launch_cutting_plane(X, xMin, xMax, epsilon=1e-8, maxit=5000)\n",
    "    \n",
    "    master = Model(SOLVER)\n",
    "    JuMP.set_silent(master)\n",
    "    set_optimizer_attribute(master, \"CPX_PARAM_LPMETHOD\", 2) #For CPLEX\n",
    "    @variable(master, α >= LB) \n",
    "    @variable(master, xMin[i] <= x[i in 1:size(X,1)] <= xMax[i])\n",
    "    @objective(master, Min, α)\n",
    "    \n",
    "    lb, ub = LB, UB\n",
    "\n",
    "    best_ub = ub\n",
    "    \n",
    "    trace_f = Float64[]\n",
    "    trace_ub = Float64[]\n",
    "    trace_lb = Float64[]\n",
    "    \n",
    "    for n_iter in 1:maxit\n",
    "        #println(\"Iteration : \",n_iter)\n",
    "        JuMP.optimize!(master)\n",
    "        lb = JuMP.value(α)\n",
    "        x_k = JuMP.value.(x)\n",
    "        f_k = f(x_k)\n",
    "        #println(\"Lower bound : \", lb)\n",
    "        #println(\"Valeur au point courant : \", f_k)\n",
    "        g_k = ForwardDiff.gradient(f, x_k)\n",
    "        ub = f_k\n",
    "        best_ub = min(ub, best_ub)\n",
    "        push!(trace_f, f_k)\n",
    "        push!(trace_ub, best_ub)\n",
    "        push!(trace_lb, lb)\n",
    "        if (f_k - lb <= epsilon)\n",
    "            println(\"Optimum reached within epsilon threshold.\")\n",
    "            return trace_f, trace_ub, trace_lb, n_iter ;\n",
    "            break\n",
    "        else\n",
    "            @constraint(master, α >= f_k + sum(g_k[i]*(x-x_k)[i] for i in 1:size(X,1)))\n",
    "        end\n",
    "    end\n",
    "    println(\"Optimum within epsilon threshold not reached.\")\n",
    "    return trace_f, trace_ub, trace_lb, maxit ;\n",
    "end;"
   ]
  },
  {
   "cell_type": "markdown",
   "metadata": {},
   "source": [
    "_Back to [table of contents](#toc)_"
   ]
  },
  {
   "cell_type": "markdown",
   "metadata": {},
   "source": [
    "## Bundle algorithm <a name=\"bundle\"></a>\n",
    "Comparing to the cutting plane method, the bundle algorithm adds a\n",
    "quadratic penalization to the polyhedral proxy model.\n",
    "The function .\n",
    "$$\n",
    "\\begin{aligned}\n",
    "f_k(x) = min_x \\;& \\theta + \\frac 12 \\| x - x_k \\|_2^2 \\\\\n",
    "         s.t. \\quad & \\theta \\geq g_k^\\top (x - x_k) + f(x_k)\n",
    "\\end{aligned}\n",
    "$$"
   ]
  },
  {
   "cell_type": "code",
   "execution_count": 8,
   "metadata": {},
   "outputs": [],
   "source": [
    "function launch_bundle(X, xMin, xMax, c=0.5, maxit=5000)\n",
    "    master = Model(SOLVER)\n",
    "    JuMP.set_silent(master)\n",
    "    set_optimizer_attribute(master, \"CPX_PARAM_LPMETHOD\", 2) #For CPLEX\n",
    "    @variable(master, α >= LB)\n",
    "    @variable(master, xMin[i] <= y[i in 1:size(X,1)] <= xMax[i])\n",
    "    \n",
    "    lb, ub = LB, UB\n",
    "\n",
    "    best_ub = ub\n",
    "\n",
    "    trace_f = Float64[]\n",
    "    trace_ub = Float64[]\n",
    "    trace_lb = Float64[]\n",
    "\n",
    "    # Number of serious step\n",
    "    nb_ss = 0\n",
    "    # Number of null step\n",
    "    nb_ns = 0\n",
    "    weight = 1/(2*c)\n",
    "    m = 0.1\n",
    "    epsilon = 1e-8\n",
    "    \n",
    "    x_k = zeros(size(X,1))\n",
    "    \n",
    "    # The objective writes out as a QP\n",
    "    @objective(master, Min, α + weight*sum((y[i]-x_k[i])^2 for i in 1:size(X,1)))\n",
    "    \n",
    "    for n_iter in 1:maxit\n",
    "        JuMP.optimize!(master)\n",
    "        # println(\"Iteration \", n_iter)\n",
    "        lb = JuMP.value(α)\n",
    "        y_k = JuMP.value.(y)\n",
    "        f_k = f(y_k)\n",
    "        # println(\"Lower bound : \", lb)\n",
    "        # println(\"Function value : \", f_k)\n",
    "        ub = f_k\n",
    "        best_ub = min(ub, best_ub)\n",
    "        f_x_k = f(x_k)\n",
    "        delta_k = f_x_k - lb - weight*sum((y_k[i]-x_k[i])^2 for i in 1:size(X,1))\n",
    "        push!(trace_f, f_k)\n",
    "        push!(trace_ub, best_ub)\n",
    "        push!(trace_lb, lb)\n",
    "        \n",
    "        if delta_k <= epsilon\n",
    "            println(\"Optimum reached within epsilon threshold.\")\n",
    "            println(\"Number of serious steps :\", nb_ss)\n",
    "            println(\"Number of null steps :\", nb_ns)\n",
    "            return trace_f, trace_ub, trace_lb, n_iter, nb_ss, nb_ns ;\n",
    "        else\n",
    "            if f_x_k - f_k >= m*delta_k\n",
    "                # Serious step\n",
    "                nb_ss += 1\n",
    "                # println(\"Serious step.\")\n",
    "                x_k = y_k\n",
    "                # We shall redefine the objective to take into account the new center\n",
    "                @objective(master, Min, α + weight*sum((y[i]-x_k[i])^2 for i in 1:size(X,1))) \n",
    "            else\n",
    "                # Null step\n",
    "                # println(\"Null step.\")\n",
    "                nb_ns += 1\n",
    "            end\n",
    "        end\n",
    "        g_k = ForwardDiff.gradient(f, y_k)\n",
    "        @constraint(master, α >= f_k + sum(g_k[i]*(y-y_k)[i] for i in 1:size(X,1)))\n",
    "    end\n",
    "    println(\"Optimum within epsilon threshold not reached.\")\n",
    "    println(\"Number of serious steps :\", nb_ss)\n",
    "    println(\"Number of null steps :\", nb_ns)\n",
    "    return trace_f, trace_ub, trace_lb, maxit, nb_ss, nb_ns ;\n",
    "end;"
   ]
  },
  {
   "cell_type": "code",
   "execution_count": 9,
   "metadata": {},
   "outputs": [],
   "source": [
    "function launch_bundle_poly(X, xMin, xMax, c=0.5, epsilon=1e-8, epsilon2=1e-8, maxit=5000)\n",
    "    \n",
    "    master = Model(SOLVER)\n",
    "    JuMP.set_silent(master)\n",
    "    set_optimizer_attribute(master, \"CPX_PARAM_LPMETHOD\", 2) #For CPLEX\n",
    "    @variable(master, α >= LB)\n",
    "    @variable(master, xMin[i] <= y[i in 1:size(X,1)] <= xMax[i])\n",
    "    \n",
    "    lb, ub = LB, UB\n",
    "\n",
    "    best_ub = ub\n",
    "\n",
    "    trace_f = Float64[]\n",
    "    trace_ub = Float64[]\n",
    "    trace_lb = Float64[]\n",
    "\n",
    "    # Number of serious step\n",
    "    nb_ss = 0\n",
    "    # Number of null step\n",
    "    nb_ns = 0\n",
    "    \n",
    "    weight = 1/(2*c)\n",
    "    \n",
    "    x_k = zeros(size(X,1))\n",
    "    \n",
    "    # The objective writes out as a QP\n",
    "    @objective(master, Min, α + weight*sum((y[i]-x_k[i])^2 for i in 1:size(X,1)))\n",
    "    \n",
    "    for n_iter in 1:maxit\n",
    "        JuMP.optimize!(master)\n",
    "        # println(\"Iteration \", n_iter)\n",
    "        lb = JuMP.value(α)\n",
    "        y_k = JuMP.value.(y)\n",
    "        f_k = f(y_k)\n",
    "        # println(\"Lower bound : \", lb)\n",
    "        # println(\"Function value : \", f_k)\n",
    "        ub = f_k\n",
    "        best_ub = min(ub, best_ub)\n",
    "        f_x_k = f(x_k)\n",
    "        \n",
    "        push!(trace_f, f_k)\n",
    "        push!(trace_ub, best_ub)\n",
    "        push!(trace_lb, lb)\n",
    "        \n",
    "        if f_k - lb <= weight*sum((y_k[i]-x_k[i])^2 for i in 1:size(X,1))\n",
    "            if sqrt(sum((y_k[i]-x_k[i])^2 for i in 1:size(X,1))) <= epsilon\n",
    "                println(\"Optimum reached within epsilon threshold.\")\n",
    "                println(\"Number of serious steps :\", nb_ss)\n",
    "                println(\"Number of null steps :\", nb_ns)\n",
    "                return trace_f, trace_ub, trace_lb, n_iter, nb_ss, nb_ns\n",
    "            else\n",
    "                # Serious step\n",
    "                nb_ss += 1\n",
    "                # println(\"Serious step.\")\n",
    "                x_k = y_k\n",
    "                # We shall redefine the objective to take into account the new center\n",
    "                @objective(master, Min, α + weight*sum((y[i]-x_k[i])^2 for i in 1:size(X,1)))\n",
    "                g_k = ForwardDiff.gradient(f, y_k)\n",
    "                @constraint(master, α >= f_k + sum(g_k[i]*(y-y_k)[i] for i in 1:size(X,1)))\n",
    "            end\n",
    "        else\n",
    "            if f_k - lb <= epsilon2\n",
    "                println(\"Optimum reached within epsilon2 threshold.\")\n",
    "                println(\"Number of serious steps :\", nb_ss)\n",
    "                println(\"Number of null steps :\", nb_ns)\n",
    "                return trace_f, trace_ub, trace_lb, n_iter, nb_ss, nb_ns ;\n",
    "            else\n",
    "                # Null step\n",
    "                # println(\"Null step.\")\n",
    "                nb_ns += 1\n",
    "                g_k = ForwardDiff.gradient(f, y_k)\n",
    "                @constraint(master, α >= f_k + sum(g_k[i]*(y-y_k)[i] for i in 1:size(X,1)))\n",
    "            end\n",
    "        end  \n",
    "    end\n",
    "    println(\"Optimum within epsilon threshold not reached.\")\n",
    "    println(\"Number of serious steps :\", nb_ss)\n",
    "    println(\"Number of null steps :\", nb_ns)\n",
    "    return trace_f, trace_ub, trace_lb, maxit, nb_ss, nb_ns ;\n",
    "end;"
   ]
  },
  {
   "cell_type": "markdown",
   "metadata": {},
   "source": [
    "__A note on bundle implementation__\n",
    "\n",
    "We had some struggle with the implementation of the bundle algorithm. Indeed, we did not want to declare ```x_k``` as a variable in order to be closer to the original mathematic problem. We first thought that it would automatically update the objective, and we obtained good looking results. But in fact, we could check that even though we were making serious steps, ```x_k``` in the objective was still ```x_0```.\n",
    "\n",
    "\n",
    "To correct this issue, we came back to the proposed implementation and declared the center ```x_k``` as a variable of the master problem, fixing it with ```JuMP.fix.```. By doing so, we were obtaining infeasible problem for some iterations. We could bypass this issue modifiying a bit the conditions of convergence, and then obtained good looking results again, but they did not have any interpretation anymore. \n",
    "\n",
    "Eventually, we came back to our first idea and in addition updated the objective in the serious step in order to take into account the update of the center ```x_k```. Eventhough it seems equivalent in practice with ```x_k``` being declared as a variable of the problem and then fixed, it seems that it is not equivalent for the solver. This could be explained by the fact that for the solver ```x_k``` is a variable even if fixed, and it induces it to some comportment in its solution search that is different to when ```x_k``` is just some constant in the objective to the solver.\n",
    "\n",
    "_Back to [table of contents](#toc)_"
   ]
  },
  {
   "cell_type": "markdown",
   "metadata": {},
   "source": [
    "## Final results on simulated data <a name=\"simulated\"></a>\n"
   ]
  },
  {
   "cell_type": "code",
   "execution_count": 11,
   "metadata": {
    "scrolled": true
   },
   "outputs": [
    {
     "name": "stdout",
     "output_type": "stream",
     "text": [
      "Optimum within epsilon threshold not reached.\n"
     ]
    }
   ],
   "source": [
    "trace_cutting_plane_f, trace_cutting_plane_ub, trace_cutting_plane_lb, n_cutting_plane  = launch_cutting_plane(A,xMin,xMax) ;"
   ]
  },
  {
   "cell_type": "code",
   "execution_count": 12,
   "metadata": {},
   "outputs": [
    {
     "data": {
      "text/plain": [
       "7.932302077406916e-7"
      ]
     },
     "execution_count": 12,
     "metadata": {},
     "output_type": "execute_result"
    }
   ],
   "source": [
    "trace_cutting_plane_f[length(trace_cutting_plane_f)] - trace_cutting_plane_lb[length(trace_cutting_plane_lb)]"
   ]
  },
  {
   "cell_type": "markdown",
   "metadata": {},
   "source": [
    "The algorithm did not reach a gap of $10^{-8}$, but still it is not that bad with a gap of $10^{-6}$"
   ]
  },
  {
   "cell_type": "code",
   "execution_count": 13,
   "metadata": {},
   "outputs": [
    {
     "data": {
      "text/plain": [
       "5.481407541196859e-7"
      ]
     },
     "execution_count": 13,
     "metadata": {},
     "output_type": "execute_result"
    }
   ],
   "source": [
    "trace_cutting_plane_f[length(trace_cutting_plane_f)] - optsol"
   ]
  },
  {
   "cell_type": "code",
   "execution_count": 16,
   "metadata": {},
   "outputs": [
    {
     "name": "stdout",
     "output_type": "stream",
     "text": [
      "Optimum reached within epsilon threshold.\n",
      "Number of serious steps :39\n",
      "Number of null steps :156\n"
     ]
    }
   ],
   "source": [
    "trace_bundle_f, trace_bundle_ub, trace_bundle_lb, n_bundle, nb_ss, nb_ns = launch_bundle(A,xMin,xMax) ;"
   ]
  },
  {
   "cell_type": "code",
   "execution_count": 23,
   "metadata": {},
   "outputs": [
    {
     "data": {
      "text/plain": [
       "1.6363385313411527e-8"
      ]
     },
     "execution_count": 23,
     "metadata": {},
     "output_type": "execute_result"
    }
   ],
   "source": [
    "trace_bundle_f[length(trace_bundle_f)] - optsol"
   ]
  },
  {
   "cell_type": "markdown",
   "metadata": {},
   "source": [
    "A first conclusion is that the bundle algorithm seems (at least with this data and this problem) more precise than the cutting plane algorithm. It is consistent with their design. "
   ]
  },
  {
   "cell_type": "code",
   "execution_count": 24,
   "metadata": {},
   "outputs": [
    {
     "data": {
      "image/png": "[encoded data removed]",
      "text/plain": [
       "Figure(PyObject <Figure size 640x480 with 1 Axes>)"
      ]
     },
     "metadata": {},
     "output_type": "display_data"
    },
    {
     "data": {
      "text/plain": [
       "PyObject <matplotlib.legend.Legend object at 0x14c2b5d50>"
      ]
     },
     "execution_count": 24,
     "metadata": {},
     "output_type": "execute_result"
    }
   ],
   "source": [
    "plot(log10.(trace_cutting_plane_f .- optsol), lw=2., label = \"cutting plane\")\n",
    "plot(log10.(trace_bundle_f .- optsol), lw=2., label = \"bundle\")\n",
    "title(\"Error evolution with the number of iterations\")\n",
    "xlabel(\"Iteration\")\n",
    "ylabel(\"Logarithm of the error\")\n",
    "legend()"
   ]
  },
  {
   "cell_type": "code",
   "execution_count": 25,
   "metadata": {},
   "outputs": [
    {
     "data": {
      "image/png": "[encoded data removed]",
      "text/plain": [
       "Figure(PyObject <Figure size 640x480 with 1 Axes>)"
      ]
     },
     "metadata": {},
     "output_type": "display_data"
    },
    {
     "data": {
      "text/plain": [
       "PyObject <matplotlib.legend.Legend object at 0x164122e50>"
      ]
     },
     "execution_count": 25,
     "metadata": {},
     "output_type": "execute_result"
    }
   ],
   "source": [
    "plot(trace_cutting_plane_f .- optsol, lw=2., label = \"cutting plane\")\n",
    "plot(trace_bundle_f .- optsol, lw=2., label = \"bundle\")\n",
    "title(\"Error evolution with the number of iterations\")\n",
    "xlabel(\"Iteration\")\n",
    "ylabel(\"Error\")\n",
    "legend()"
   ]
  },
  {
   "cell_type": "markdown",
   "metadata": {},
   "source": [
    "We have the graphical impression that the cutting plane algorithm stagnates after something like 500 iterations. We can check this:"
   ]
  },
  {
   "cell_type": "code",
   "execution_count": 50,
   "metadata": {},
   "outputs": [
    {
     "data": {
      "text/plain": [
       "385"
      ]
     },
     "execution_count": 50,
     "metadata": {},
     "output_type": "execute_result"
    }
   ],
   "source": [
    "findlast(isequal(0),((trace_cutting_plane_f .- trace_cutting_plane_f[length(trace_cutting_plane_f)]) .== 0))"
   ]
  },
  {
   "cell_type": "markdown",
   "metadata": {},
   "source": [
    "Hence, after the iteration number 386 the algorithm stayed on the same point. Thus, we can't reach a better prevision than $10^{-6}$ even if we increase $\\epsilon$ or ```maxit```.\n",
    "\n",
    "Even if we only take into account these 386 first iterations, the bundle algorithm is faster, and creates less cuts than the cutting plane algorithm, again as expected. Indeed, the bundel algorithm generated: "
   ]
  },
  {
   "cell_type": "code",
   "execution_count": 53,
   "metadata": {},
   "outputs": [
    {
     "name": "stdout",
     "output_type": "stream",
     "text": [
      "196\n"
     ]
    }
   ],
   "source": [
    "println(n_bundle)"
   ]
  },
  {
   "cell_type": "markdown",
   "metadata": {},
   "source": [
    "which is really less than 386.\n",
    "\n",
    "We can zoom on the first 386 iterations:"
   ]
  },
  {
   "cell_type": "code",
   "execution_count": 51,
   "metadata": {},
   "outputs": [
    {
     "data": {
      "image/png": "[encoded data removed]",
      "text/plain": [
       "Figure(PyObject <Figure size 640x480 with 1 Axes>)"
      ]
     },
     "metadata": {},
     "output_type": "display_data"
    },
    {
     "data": {
      "text/plain": [
       "PyObject <matplotlib.legend.Legend object at 0x1666d7350>"
      ]
     },
     "execution_count": 51,
     "metadata": {},
     "output_type": "execute_result"
    }
   ],
   "source": [
    "plot(log10.(trace_cutting_plane_f .- optsol)[1:386], lw=2., label = \"cutting plane\")\n",
    "plot(log10.(trace_bundle_f .- optsol), lw=2., label = \"bundle\")\n",
    "title(\"Error evolution with the number of iterations\")\n",
    "xlabel(\"Iteration\")\n",
    "ylabel(\"Logarithm of the error\")\n",
    "legend()"
   ]
  },
  {
   "cell_type": "code",
   "execution_count": 52,
   "metadata": {},
   "outputs": [
    {
     "data": {
      "image/png": "[encoded data removed]",
      "text/plain": [
       "Figure(PyObject <Figure size 640x480 with 1 Axes>)"
      ]
     },
     "metadata": {},
     "output_type": "display_data"
    },
    {
     "data": {
      "text/plain": [
       "PyObject <matplotlib.legend.Legend object at 0x166709e90>"
      ]
     },
     "execution_count": 52,
     "metadata": {},
     "output_type": "execute_result"
    }
   ],
   "source": [
    "plot((trace_cutting_plane_f .- optsol)[1:386], lw=2., label = \"cutting plane\")\n",
    "plot(trace_bundle_f .- optsol, lw=2., label = \"bundle\")\n",
    "title(\"Error evolution with the number of iterations\")\n",
    "xlabel(\"Iteration\")\n",
    "ylabel(\"Error\")\n",
    "legend()"
   ]
  },
  {
   "cell_type": "markdown",
   "metadata": {},
   "source": [
    "We observe that from the beginning on, the approximation supplied by the bundle algorithm was far better than the one obtained thanks to the cutting plane algorithm. Furthermore, not only the bundle algorithm converges faster and more precisely, the rate of decrease is also higher (we observe this on the log plot): it is not only because it starts earlier with a good point, its improvements are indeed better at each step thanks to the Moreau-Yosida regularization."
   ]
  },
  {
   "cell_type": "markdown",
   "metadata": {},
   "source": [
    "_Back to [table of contents](#toc)_"
   ]
  },
  {
   "cell_type": "markdown",
   "metadata": {},
   "source": [
    "### Influence of the tightness c"
   ]
  },
  {
   "cell_type": "code",
   "execution_count": null,
   "metadata": {},
   "outputs": [],
   "source": [
    "c_min = -5 ;\n",
    "c_max = 3 ;\n",
    "lambdas = [5*(float(10)^(i)) for i in range(e_min,e_max, step=1)]\n",
    "\n",
    "trace_prox = Float64[]\n",
    "trace_prox_acc = Float64[]\n",
    "\n",
    "for λ in lambdas\n",
    "\n",
    "    optsol = get_solution(A, b, λ)\n",
    "    \n",
    "    trace_1 = proximal_gradient(A, b, u0, step, λ, maxit=10000)\n",
    "    push!(trace_prox, trace_1[length(trace_1)] - optsol)\n",
    "    trace_2 = accelerated_proximal_gradient(A, b, u0, step, λ, maxit=10000)\n",
    "    push!(trace_prox_acc, trace_2[length(trace_2)] - optsol)\n",
    "    \n",
    "end\n",
    "\n",
    "plot(log10.(abs.(trace_prox)), lw=2., label=\"Prox. gradient\")\n",
    "plot(log10.(abs.(trace_prox_acc)), lw=2., label=\"Accelerated gradient\")\n",
    "xticks(range(0,length(lambdas),step=1),lambdas)\n",
    "xlabel(\"λ\")\n",
    "ylabel(\"Logarithm of the error\")\n",
    "title(\"Influence of the regularization strength on the error\")\n",
    "legend()"
   ]
  },
  {
   "cell_type": "code",
   "execution_count": 37,
   "metadata": {},
   "outputs": [],
   "source": [
    "smallprimes = [2, 3, 5, 7, 11, 13, 17, 19, 23, 29];"
   ]
  },
  {
   "cell_type": "code",
   "execution_count": 40,
   "metadata": {},
   "outputs": [
    {
     "data": {
      "text/plain": [
       "1-element Array{Int64,1}:\n",
       " 6"
      ]
     },
     "execution_count": 40,
     "metadata": {},
     "output_type": "execute_result"
    }
   ],
   "source": [
    "findall(isequal(13), smallprimes)"
   ]
  },
  {
   "cell_type": "code",
   "execution_count": null,
   "metadata": {},
   "outputs": [],
   "source": []
  }
 ],
 "metadata": {
  "kernelspec": {
   "display_name": "Julia 1.3.1",
   "language": "julia",
   "name": "julia-1.3"
  },
  "language_info": {
   "file_extension": ".jl",
   "mimetype": "application/julia",
   "name": "julia",
   "version": "1.3.1"
  }
 },
 "nbformat": 4,
 "nbformat_minor": 2
}
